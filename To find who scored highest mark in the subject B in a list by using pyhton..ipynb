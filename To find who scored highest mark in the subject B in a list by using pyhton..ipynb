{
 "cells": [
  {
   "cell_type": "markdown",
   "id": "45931aa7",
   "metadata": {},
   "source": [
    "Problem Statement\n",
    "\n",
    "*Analytics vidhya conducted an assesment test to hire a Data Scientist. the candidates were evaluated on 5 differnt subjects A, B, C, D and E. The marks of 5 differnt subject out of 100 are given below. find out who scored highest mark in the subject B?"
   ]
  },
  {
   "cell_type": "code",
   "execution_count": 2,
   "id": "47f32845",
   "metadata": {},
   "outputs": [],
   "source": [
    "#student marks\n",
    "\n",
    "student_mark = [['Name', ['A', 'B', 'C', 'D', 'E']],\n",
    "               ['Ankit', [41, 34, 45, 55, 63]],\n",
    "               ['Aravind',[42, 23, 34, 44, 53]],\n",
    "               ['Lakshay',[32, 23, 13, 54, 67]],\n",
    "               ['Gyan',[23, 82, 23, 63, 34]],\n",
    "               ['Pranav',[21, 23, 25, 56, 56]]\n",
    "               ]"
   ]
  },
  {
   "cell_type": "markdown",
   "id": "e5937c6a",
   "metadata": {},
   "source": [
    "Let's try to access the first index of the list."
   ]
  },
  {
   "cell_type": "code",
   "execution_count": 3,
   "id": "80e8b9f1",
   "metadata": {},
   "outputs": [
    {
     "data": {
      "text/plain": [
       "['Name', ['A', 'B', 'C', 'D', 'E']]"
      ]
     },
     "execution_count": 3,
     "metadata": {},
     "output_type": "execute_result"
    }
   ],
   "source": [
    "student_mark[0]"
   ]
  },
  {
   "cell_type": "markdown",
   "id": "71b53500",
   "metadata": {},
   "source": [
    "Here the first element in the index is similar to headeers in the CSV file. So, we will slice the list from the second element."
   ]
  },
  {
   "cell_type": "code",
   "execution_count": 4,
   "id": "6afc5914",
   "metadata": {},
   "outputs": [
    {
     "data": {
      "text/plain": [
       "['Ankit', [41, 34, 45, 55, 63]]"
      ]
     },
     "execution_count": 4,
     "metadata": {},
     "output_type": "execute_result"
    }
   ],
   "source": [
    "student_mark[1]"
   ]
  },
  {
   "cell_type": "markdown",
   "id": "c8ea7199",
   "metadata": {},
   "source": [
    "Now, each element in the list from the index 1 contains 2 elements, the first one is the Name and second one is list of marks."
   ]
  },
  {
   "cell_type": "code",
   "execution_count": 5,
   "id": "e980a865",
   "metadata": {},
   "outputs": [
    {
     "data": {
      "text/plain": [
       "'Ankit'"
      ]
     },
     "execution_count": 5,
     "metadata": {},
     "output_type": "execute_result"
    }
   ],
   "source": [
    "student_mark[1][0]"
   ]
  },
  {
   "cell_type": "code",
   "execution_count": 6,
   "id": "eab2c334",
   "metadata": {},
   "outputs": [
    {
     "data": {
      "text/plain": [
       "[41, 34, 45, 55, 63]"
      ]
     },
     "execution_count": 6,
     "metadata": {},
     "output_type": "execute_result"
    }
   ],
   "source": [
    "student_mark[1][1]"
   ]
  },
  {
   "cell_type": "markdown",
   "id": "e1cee941",
   "metadata": {},
   "source": [
    "Now, the student marks are in order A, B, C, D and E. and we need to access the value at index 1 to get the marks in subject B."
   ]
  },
  {
   "cell_type": "code",
   "execution_count": 7,
   "id": "15b0bc76",
   "metadata": {},
   "outputs": [
    {
     "data": {
      "text/plain": [
       "34"
      ]
     },
     "execution_count": 7,
     "metadata": {},
     "output_type": "execute_result"
    }
   ],
   "source": [
    "student_mark[1][1][1]"
   ]
  },
  {
   "cell_type": "markdown",
   "id": "343a8b3a",
   "metadata": {},
   "source": [
    "That's the marks of Ankit in Subject B."
   ]
  },
  {
   "cell_type": "markdown",
   "id": "c3849e53",
   "metadata": {},
   "source": [
    "Now, we will solve the problem step by step.\n",
    "Who scored the highest marks in the subject B."
   ]
  },
  {
   "cell_type": "markdown",
   "id": "f21617cb",
   "metadata": {},
   "source": [
    "Step1 : Select name of student and marks in subject B"
   ]
  },
  {
   "cell_type": "code",
   "execution_count": 8,
   "id": "299fd3a7",
   "metadata": {},
   "outputs": [
    {
     "name": "stdout",
     "output_type": "stream",
     "text": [
      "Ankit 34\n",
      "Aravind 23\n",
      "Lakshay 23\n",
      "Gyan 82\n",
      "Pranav 23\n"
     ]
    }
   ],
   "source": [
    "for student in student_mark[1:]:\n",
    "    name = student[0]\n",
    "    marks_in_B = student[1][1]\n",
    "    \n",
    "    print(name, marks_in_B)"
   ]
  },
  {
   "cell_type": "markdown",
   "id": "13ade136",
   "metadata": {},
   "source": [
    "Step2 : Store the filtered name and marks in another list."
   ]
  },
  {
   "cell_type": "code",
   "execution_count": 27,
   "id": "3aa1e825",
   "metadata": {},
   "outputs": [],
   "source": [
    "#lists to store the marks\n",
    "student_with_mark_B = []\n",
    "\n",
    "for student in student_mark[1:]:\n",
    "    name = student[0]\n",
    "    marks_in_B = student[1][1]\n",
    "    \n",
    "    student_with_mark_B.append([marks_in_B, name])"
   ]
  },
  {
   "cell_type": "code",
   "execution_count": 28,
   "id": "9ab70c3f",
   "metadata": {},
   "outputs": [
    {
     "data": {
      "text/plain": [
       "[[34, 'Ankit'], [23, 'Aravind'], [23, 'Lakshay'], [82, 'Gyan'], [23, 'Pranav']]"
      ]
     },
     "execution_count": 28,
     "metadata": {},
     "output_type": "execute_result"
    }
   ],
   "source": [
    "student_with_mark_B"
   ]
  },
  {
   "cell_type": "markdown",
   "id": "9bde9c5c",
   "metadata": {},
   "source": [
    "Step3 : Sort the list. (We Kept the marks as the first index)."
   ]
  },
  {
   "cell_type": "code",
   "execution_count": 29,
   "id": "b0f38b0d",
   "metadata": {},
   "outputs": [
    {
     "data": {
      "text/plain": [
       "[[23, 'Aravind'], [23, 'Lakshay'], [23, 'Pranav'], [34, 'Ankit'], [82, 'Gyan']]"
      ]
     },
     "execution_count": 29,
     "metadata": {},
     "output_type": "execute_result"
    }
   ],
   "source": [
    "sorted(student_with_mark_B)"
   ]
  },
  {
   "cell_type": "markdown",
   "id": "02eb58e1",
   "metadata": {},
   "source": [
    "Step4 : Get the final index of the sorted list."
   ]
  },
  {
   "cell_type": "code",
   "execution_count": 31,
   "id": "63012560",
   "metadata": {},
   "outputs": [
    {
     "data": {
      "text/plain": [
       "[82, 'Gyan']"
      ]
     },
     "execution_count": 31,
     "metadata": {},
     "output_type": "execute_result"
    }
   ],
   "source": [
    "sorted(student_with_mark_B)[-1]"
   ]
  },
  {
   "cell_type": "code",
   "execution_count": 32,
   "id": "06b8b694",
   "metadata": {},
   "outputs": [
    {
     "data": {
      "text/plain": [
       "'Gyan'"
      ]
     },
     "execution_count": 32,
     "metadata": {},
     "output_type": "execute_result"
    }
   ],
   "source": [
    "sorted(student_with_mark_B)[-1][1]"
   ]
  },
  {
   "cell_type": "code",
   "execution_count": 35,
   "id": "6f90c5b2",
   "metadata": {},
   "outputs": [
    {
     "data": {
      "text/plain": [
       "'Gyan'"
      ]
     },
     "execution_count": 35,
     "metadata": {},
     "output_type": "execute_result"
    }
   ],
   "source": [
    "sorted(student_with_mark_B, reverse = True)[0][1]"
   ]
  },
  {
   "cell_type": "markdown",
   "id": "6f412047",
   "metadata": {},
   "source": [
    "So, we got the answer of the first question. Gyan has scored the highest marks in subject B."
   ]
  }
 ],
 "metadata": {
  "kernelspec": {
   "display_name": "Python 3",
   "language": "python",
   "name": "python3"
  },
  "language_info": {
   "codemirror_mode": {
    "name": "ipython",
    "version": 3
   },
   "file_extension": ".py",
   "mimetype": "text/x-python",
   "name": "python",
   "nbconvert_exporter": "python",
   "pygments_lexer": "ipython3",
   "version": "3.8.8"
  }
 },
 "nbformat": 4,
 "nbformat_minor": 5
}
